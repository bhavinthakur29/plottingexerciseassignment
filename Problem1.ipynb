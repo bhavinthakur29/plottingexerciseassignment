import numpy as np
import matplotlib.pyplot as plt

data = np.random.normal(loc=10, scale=2, size=500)

fig, ax = plt.subplots(figsize=(10, 6))
ax.hist(data, bins=40, edgecolor='k', facecolor='#87CEEB')

mean = data.mean()
median = np.median(data)
ax.axvline(mean, color='r', linestyle='--', label=f'Mean: {mean:.2f}')
ax.axvline(median, color='g', linestyle='--', label=f'Median: {median:.2f}')

ax.set_xlabel('Value', fontsize=14)
ax.set_ylabel('Frequency', fontsize=14)
ax.set_title('Histogram of Random Normal Distribution', fontsize=16)
ax.legend(fontsize=12)

plt.show()
