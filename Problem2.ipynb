import pandas as pd
import matplotlib.pyplot as plt
import seaborn as sns

df = pd.read_parquet('https://star.herts.ac.uk/~kuhn/DHV/exercises_problem2.parquet')

print("Dataset Overview:")
print(df.head())
print("\nDataset Information:")
print(df.info())

available_features = list(df.columns)
print(f"\nAvailable features: {', '.join(available_features)}")

plt.figure(figsize=(10, 6))
sns.scatterplot(x=available_features[0], y=available_features[1], data=df)
plt.xlabel(available_features[0])
plt.ylabel(available_features[1])
plt.title(f'Scatter Plot of {available_features[0]} vs {available_features[1]}')
plt.show()

plt.figure(figsize=(10, 6))
df[available_features[2]].hist(bins=30)
plt.xlabel(available_features[2])
plt.ylabel('Frequency')
plt.title(f'Histogram of {available_features[2]}')
plt.show()

corr = df.corr()
plt.figure(figsize=(10, 8))
sns.heatmap(corr, cmap='YlOrRd', annot=True)
plt.title('Correlation Heatmap')
plt.show()
